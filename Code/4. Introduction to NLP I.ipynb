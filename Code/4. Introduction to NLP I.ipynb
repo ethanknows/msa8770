{
 "cells": [
  {
   "cell_type": "code",
   "execution_count": 1,
   "metadata": {
    "collapsed": true
   },
   "outputs": [],
   "source": [
    "import sklearn\n",
    "import nltk"
   ]
  },
  {
   "cell_type": "code",
   "execution_count": 1,
   "metadata": {},
   "outputs": [
    {
     "name": "stdout",
     "output_type": "stream",
     "text": [
      "0.0\n",
      "1.0\n",
      "0.468995593589\n"
     ]
    }
   ],
   "source": [
    "import numpy as np\n",
    "def Entropy(CountList):\n",
    "  newList = filter(None,[float(x) / sum(CountList) for x in CountList])\n",
    "  entropy=-np.sum(newList * np.log2(newList))\n",
    "  if entropy == 0:\n",
    "    return 0.0\n",
    "  else:\n",
    "    return entropy\n",
    "#Of the 10 text mining papers docuemnts, \"the\" appeared 10 times\n",
    "#\"entropy\" appeared 5 times, \"Batman\" appeared 1 time.\n",
    "print Entropy([0,10])\n",
    "print Entropy([5,5])\n",
    "print Entropy([1,9])"
   ]
  },
  {
   "cell_type": "code",
   "execution_count": 2,
   "metadata": {},
   "outputs": [
    {
     "name": "stdout",
     "output_type": "stream",
     "text": [
      "2.20837781917\n",
      "0.912428711224\n"
     ]
    }
   ],
   "source": [
    "print Entropy([287, 161, 130, 96, 257])\n",
    "print Entropy([631, 60, 24, 15, 20])"
   ]
  },
  {
   "cell_type": "code",
   "execution_count": 3,
   "metadata": {},
   "outputs": [
    {
     "data": {
      "text/plain": [
       "40"
      ]
     },
     "execution_count": 3,
     "metadata": {},
     "output_type": "execute_result"
    }
   ],
   "source": [
    "OneSentence = \"A dog is chasing a boy on the playground\"\n",
    "len(OneSentence)"
   ]
  },
  {
   "cell_type": "code",
   "execution_count": 4,
   "metadata": {},
   "outputs": [
    {
     "data": {
      "text/plain": [
       "'A'"
      ]
     },
     "execution_count": 4,
     "metadata": {},
     "output_type": "execute_result"
    }
   ],
   "source": [
    "[i for i in OneSentence][0]"
   ]
  },
  {
   "cell_type": "code",
   "execution_count": 5,
   "metadata": {
    "collapsed": true
   },
   "outputs": [],
   "source": [
    "WordList = OneSentence.split(\" \")"
   ]
  },
  {
   "cell_type": "code",
   "execution_count": 6,
   "metadata": {},
   "outputs": [
    {
     "name": "stdout",
     "output_type": "stream",
     "text": [
      "['A', 'dog', 'is', 'chasing', 'a', 'boy', 'on', 'the', 'playground']\n",
      "9\n"
     ]
    }
   ],
   "source": [
    "print WordList\n",
    "print len(WordList)"
   ]
  },
  {
   "cell_type": "code",
   "execution_count": 7,
   "metadata": {},
   "outputs": [
    {
     "data": {
      "text/plain": [
       "['dog', 'chasing', 'boy', 'the', 'playground']"
      ]
     },
     "execution_count": 7,
     "metadata": {},
     "output_type": "execute_result"
    }
   ],
   "source": [
    "[i for i in WordList if len(i)>=3]"
   ]
  },
  {
   "cell_type": "code",
   "execution_count": 8,
   "metadata": {},
   "outputs": [
    {
     "data": {
      "text/plain": [
       "['A']"
      ]
     },
     "execution_count": 8,
     "metadata": {},
     "output_type": "execute_result"
    }
   ],
   "source": [
    "[i for i in WordList if i.istitle()]"
   ]
  },
  {
   "cell_type": "code",
   "execution_count": 9,
   "metadata": {},
   "outputs": [
    {
     "data": {
      "text/plain": [
       "['dog', 'is', 'chasing', 'a', 'boy', 'on', 'the', 'playground']"
      ]
     },
     "execution_count": 9,
     "metadata": {},
     "output_type": "execute_result"
    }
   ],
   "source": [
    "[i for i in WordList if i.islower()]"
   ]
  },
  {
   "cell_type": "code",
   "execution_count": 10,
   "metadata": {},
   "outputs": [
    {
     "name": "stdout",
     "output_type": "stream",
     "text": [
      "['A', 'dog', 'is', 'chasing', '1', 'boy', 'on', 'the', 'playground', '.']\n"
     ]
    }
   ],
   "source": [
    "OneSentence = \"A dog is chasing 1 boy on the playground .\"\n",
    "WordList = OneSentence.split(\" \")\n",
    "[i for i in WordList if i.isdigit()]\n",
    "[i for i in WordList if i.isalpha()]\n",
    "print WordList"
   ]
  },
  {
   "cell_type": "code",
   "execution_count": 12,
   "metadata": {},
   "outputs": [
    {
     "name": "stdout",
     "output_type": "stream",
     "text": [
      "True\n",
      "False\n",
      "False\n"
     ]
    }
   ],
   "source": [
    "a = \"Discuss\"\n",
    "print a.istitle()\n",
    "print a.isupper()\n",
    "print a.islower()"
   ]
  },
  {
   "cell_type": "code",
   "execution_count": 13,
   "metadata": {},
   "outputs": [
    {
     "data": {
      "text/plain": [
       "['dog', 'chasing', 'fee', 'fee', 'the']"
      ]
     },
     "execution_count": 13,
     "metadata": {},
     "output_type": "execute_result"
    }
   ],
   "source": [
    "OneSentence = \"A dog is do chasing fee fee 1 boy on the playground .\"\n",
    "WordList = OneSentence.split(\" \")\n",
    "[i for i in WordList if i.endswith(\"e\") or i.endswith(\"g\")]\n"
   ]
  },
  {
   "cell_type": "code",
   "execution_count": 3,
   "metadata": {},
   "outputs": [
    {
     "name": "stdout",
     "output_type": "stream",
     "text": [
      "['To', 'be', 'or', 'not', 'to', 'be']\n",
      "set(['not', 'To', 'or', 'to', 'be'])\n",
      "set(['not', 'to', 'or', 'be'])\n"
     ]
    }
   ],
   "source": [
    "OneSentence = \"To be or not to be\"\n",
    "WordList = OneSentence.split(\" \")\n",
    "print WordList\n",
    "print set(WordList)\n",
    "print set([w.lower() for w in WordList])"
   ]
  },
  {
   "cell_type": "code",
   "execution_count": 5,
   "metadata": {},
   "outputs": [
    {
     "name": "stdout",
     "output_type": "stream",
     "text": [
      "['to', 'be', 'or', 'not', 'to', 'be']\n"
     ]
    },
    {
     "data": {
      "text/plain": [
       "FreqDist({'be': 2, 'not': 1, 'or': 1, 'to': 2})"
      ]
     },
     "execution_count": 5,
     "metadata": {},
     "output_type": "execute_result"
    }
   ],
   "source": [
    "from nltk import FreqDist\n",
    "text1 = \"to be or not to be\"\n",
    "WordList = text1.split(\" \")\n",
    "print WordList\n",
    "fdist1 = FreqDist(WordList)\n",
    "fdist1"
   ]
  },
  {
   "cell_type": "code",
   "execution_count": 14,
   "metadata": {},
   "outputs": [
    {
     "name": "stdout",
     "output_type": "stream",
     "text": [
      "###\t('Diaper Dekor Plus Refill, 2 Count', 'Diaper Dekor', 'B00389VFH2', '2015-02-14', 'null', 'false', 14, 'Baby', 2, 'Â Baby|Diapering|Diaper Pails & Refills', 0, 'N/A', 0, 'N/A', 0, 'N/A', 14.99, 14.41, 0.58, '4.00', 4.40, 221, 77, 30, 19, 3, 'http://www.amazon.com/dp/B00389VFH2', 350), \n",
      "\n",
      "['Diaper Dekor Plus Refill', ' 2 Count', ' Diaper Dekor', ' B00389VFH2', ' 2015-02-14', ' null', ' false', ' 14', ' Baby', ' 2', ' \\xc3\\x82\\xc2\\xa0Baby|Diapering|Diaper Pails & Refills', ' 0', ' N/A', ' 0', ' N/A', ' 0', ' N/A', ' 14.99', ' 14.41', ' 0.58', ' 4.00', ' 4.40', ' 221', ' 77', ' 30', ' 19', ' 3', ' http://www.amazon.com/dp/B00389VFH2', ' 350']\n",
      "###\t('TheraBreath Dentist Recommended Fresh Breath Oral Rinse - Mild Mint Flavor, 16 Ounce (Pack of 2)', 'TheraBreath', 'B001ET76AI', '2015-02-14', 'null', 'true', 66, 'Health & Personal Care', 1, 'Â Health & Personal Care|Oral Care|Mouthwash', 17, 'Â Health & Personal Care|Personal Care', 0, 'N/A', 0, 'N/A', 25.19, 15.58, 9.61, '38.00', 4.40, 738, 111, 54, 40, 59, 'http://www.amazon.com/dp/B001ET76AI', 1002),\n",
      "\n",
      "['TheraBreath Dentist Recommended Fresh Breath Oral Rinse - Mild Mint Flavor', ' 16 Ounce (Pack of 2)', ' TheraBreath', ' B001ET76AI', ' 2015-02-14', ' null', ' true', ' 66', ' Health & Personal Care', ' 1', ' \\xc3\\x82\\xc2\\xa0Health & Personal Care|Oral Care|Mouthwash', ' 17', ' \\xc3\\x82\\xc2\\xa0Health & Personal Care|Personal Care', ' 0', ' N/A', ' 0', ' N/A', ' 25.19', ' 15.58', ' 9.61', ' 38.00', ' 4.40', ' 738', ' 111', ' 54', ' 40', ' 59', ' http://www.amazon.com/dp/B001ET76AI', ' 1002']\n"
     ]
    }
   ],
   "source": [
    "with open(\"/Users/ethan/Downloads/SampleText.txt\",\"r\") as reviews:\n",
    "    for onerow in reviews:\n",
    "        if onerow.startswith(\"#\"):\n",
    "            print onerow\n",
    "            outputrow = onerow.lstrip(\"#\").strip().strip(\",\").replace(\"'\",\"\").strip(\"()\").split(\",\")\n",
    "            print outputrow"
   ]
  },
  {
   "cell_type": "code",
   "execution_count": 15,
   "metadata": {},
   "outputs": [
    {
     "data": {
      "text/plain": [
       "\"It's not straight-forward to perform so-called tokenization\""
      ]
     },
     "execution_count": 15,
     "metadata": {},
     "output_type": "execute_result"
    }
   ],
   "source": [
    "text4 = \"It's not straight-forward to perform so-called tokenization\"\n",
    "text4"
   ]
  },
  {
   "cell_type": "code",
   "execution_count": 23,
   "metadata": {},
   "outputs": [
    {
     "name": "stdout",
     "output_type": "stream",
     "text": [
      "[\"It's\", 'not', 'straight-forward', 'to', 'perform', 'so-called', 'tokenization']\n",
      "[\"It's\", 'not', 'straight-forward', 'to', 'perform', 'so-called', 'tokenization']\n",
      "['It', 's', 'not', 'straight', 'forward', 'to', 'perform', 'so', 'called', 'tokenization']\n",
      "['It', 's', 'not', 'straight', 'forward', 'to', 'perform', 'so', 'called', 'tokenization']\n"
     ]
    }
   ],
   "source": [
    "import re\n",
    "print re.findall(\"[^ \\t\\n\\r\\f\\v]+\",text4)\n",
    "print re.findall(\"[\\S]+\",text4)\n",
    "print re.findall(\"[A-Za-z0-9]+\",text4)\n",
    "print re.findall(\"[\\w]+\",text4)"
   ]
  },
  {
   "cell_type": "code",
   "execution_count": 32,
   "metadata": {},
   "outputs": [
    {
     "name": "stdout",
     "output_type": "stream",
     "text": [
      "['Next', 'Friday', '@GSUSpotlight', 'presents', '#GeorgiaState', 'Night', 'at', '@', 'Georgia', 'Aquarium:', 'Panthers', 'Under', 'the', 'Sea;', \"don't\", 'miss', 'it!', '@Robinson_College', 'http://ow.ly/Zi3G30fm5Ls', '']\n",
      "['#GeorgiaState']\n"
     ]
    }
   ],
   "source": [
    "with open(\"/Users/ethan/Downloads/SampleTwitter.txt\",\"r\") as text5:\n",
    "    for text5 in text5:\n",
    "        text5List = text5.split(\" \")\n",
    "        print text5List\n",
    "        print[w for w in text5List if w.startswith(\"#\")]\n"
   ]
  },
  {
   "cell_type": "code",
   "execution_count": 34,
   "metadata": {},
   "outputs": [
    {
     "name": "stdout",
     "output_type": "stream",
     "text": [
      "['@GSUSpotlight', '@', '@Robinson_College']\n",
      "['@GSUSpotlight', '@Robinson_College']\n",
      "['@GSUSpotlight', '@', '@Robinson_College']\n",
      "['@GSUSpotlight', '@', '@Robinson_College']\n"
     ]
    }
   ],
   "source": [
    "print [w for w in text5List if w.startswith(\"@\")]\n",
    "print [w for w in text5List if re.search(\"@[A-Za-z0-9]+\",w)]\n",
    "print [w for w in text5List if re.search(\"@[A-Za-z0-9]?\",w)]\n",
    "print [w for w in text5List if re.search(\"@[A-Za-z0-9]*\",w)]"
   ]
  },
  {
   "cell_type": "code",
   "execution_count": null,
   "metadata": {
    "collapsed": true
   },
   "outputs": [],
   "source": []
  }
 ],
 "metadata": {
  "kernelspec": {
   "display_name": "Python 2",
   "language": "python",
   "name": "python2"
  },
  "language_info": {
   "codemirror_mode": {
    "name": "ipython",
    "version": 2
   },
   "file_extension": ".py",
   "mimetype": "text/x-python",
   "name": "python",
   "nbconvert_exporter": "python",
   "pygments_lexer": "ipython2",
   "version": "2.7.13"
  }
 },
 "nbformat": 4,
 "nbformat_minor": 1
}
