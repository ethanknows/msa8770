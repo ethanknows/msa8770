{
 "cells": [
  {
   "cell_type": "code",
   "execution_count": 8,
   "metadata": {},
   "outputs": [
    {
     "name": "stdout",
     "output_type": "stream",
     "text": [
      "['To', 'be', 'or', 'not', 'to', 'be.']\n"
     ]
    }
   ],
   "source": [
    "text1 = \"To be or not to be.\"\n",
    "WordList = text1.split(\" \")\n",
    "print WordList"
   ]
  },
  {
   "cell_type": "code",
   "execution_count": 4,
   "metadata": {},
   "outputs": [
    {
     "data": {
      "text/plain": [
       "'To be or not to be'"
      ]
     },
     "execution_count": 4,
     "metadata": {},
     "output_type": "execute_result"
    }
   ],
   "source": [
    "text1.strip(\".\")"
   ]
  },
  {
   "cell_type": "code",
   "execution_count": 9,
   "metadata": {},
   "outputs": [
    {
     "data": {
      "text/plain": [
       "18"
      ]
     },
     "execution_count": 9,
     "metadata": {},
     "output_type": "execute_result"
    }
   ],
   "source": [
    "text1.find(\".\")"
   ]
  },
  {
   "cell_type": "code",
   "execution_count": 10,
   "metadata": {},
   "outputs": [
    {
     "data": {
      "text/plain": [
       "'To be or not to be'"
      ]
     },
     "execution_count": 10,
     "metadata": {},
     "output_type": "execute_result"
    }
   ],
   "source": [
    "text1.replace(\".\", \"\")"
   ]
  },
  {
   "cell_type": "code",
   "execution_count": 12,
   "metadata": {},
   "outputs": [
    {
     "data": {
      "text/plain": [
       "'To-be-or-not-to-be'"
      ]
     },
     "execution_count": 12,
     "metadata": {},
     "output_type": "execute_result"
    }
   ],
   "source": [
    "s = \" \"\n",
    "t = [\"To\", \"be\", \"or\", \"not\", \"to\", \"be\"]\n",
    "\"-\".join(t)"
   ]
  },
  {
   "cell_type": "code",
   "execution_count": 34,
   "metadata": {},
   "outputs": [
    {
     "name": "stdout",
     "output_type": "stream",
     "text": [
      "['1-2', '3-4', '3-4', '5-6.']\n"
     ]
    },
    {
     "data": {
      "text/plain": [
       "Counter({'1-2': 1, '3-4': 2, '5-6.': 1})"
      ]
     },
     "execution_count": 34,
     "metadata": {},
     "output_type": "execute_result"
    }
   ],
   "source": [
    "from nltk import FreqDist\n",
    "text1 = \"1-2 3-4 3-4 5-6.\"\n",
    "WordList = text1.split(\" \")\n",
    "print WordList\n",
    "fdist1 = FreqDist(WordList)\n",
    "fdist1"
   ]
  },
  {
   "cell_type": "code",
   "execution_count": 2,
   "metadata": {},
   "outputs": [
    {
     "name": "stdout",
     "output_type": "stream",
     "text": [
      "###\t('Diaper Dekor Plus Refill, 2 Count', 'Diaper Dekor', 'B00389VFH2', '2015-02-14', 'null', 'false', 14, 'Baby', 2, 'Â Baby|Diapering|Diaper Pails & Refills', 0, 'N/A', 0, 'N/A', 0, 'N/A', 14.99, 14.41, 0.58, '4.00', 4.40, 221, 77, 30, 19, 3, 'http://www.amazon.com/dp/B00389VFH2', 350), \n",
      "\n",
      "('Diaper Dekor Plus Refill, 2 Count', 'Diaper Dekor', 'B00389VFH2', '2015-02-14', 'null', 'false', 14, 'Baby', 2, 'Â Baby|Diapering|Diaper Pails & Refills', 0, 'N/A', 0, 'N/A', 0, 'N/A', 14.99, 14.41, 0.58, '4.00', 4.40, 221, 77, 30, 19, 3, 'http://www.amazon.com/dp/B00389VFH2', 350)\n",
      "###\t('TheraBreath Dentist Recommended Fresh Breath Oral Rinse - Mild Mint Flavor, 16 Ounce (Pack of 2)', 'TheraBreath', 'B001ET76AI', '2015-02-14', 'null', 'true', 66, 'Health & Personal Care', 1, 'Â Health & Personal Care|Oral Care|Mouthwash', 17, 'Â Health & Personal Care|Personal Care', 0, 'N/A', 0, 'N/A', 25.19, 15.58, 9.61, '38.00', 4.40, 738, 111, 54, 40, 59, 'http://www.amazon.com/dp/B001ET76AI', 1002),\n",
      "\n",
      "('TheraBreath Dentist Recommended Fresh Breath Oral Rinse - Mild Mint Flavor, 16 Ounce (Pack of 2)', 'TheraBreath', 'B001ET76AI', '2015-02-14', 'null', 'true', 66, 'Health & Personal Care', 1, 'Â Health & Personal Care|Oral Care|Mouthwash', 17, 'Â Health & Personal Care|Personal Care', 0, 'N/A', 0, 'N/A', 25.19, 15.58, 9.61, '38.00', 4.40, 738, 111, 54, 40, 59, 'http://www.amazon.com/dp/B001ET76AI', 1002)\n"
     ]
    }
   ],
   "source": [
    "with open(\"SampleText.txt\",\"r\") as reviews:\n",
    "    for onerow in reviews:\n",
    "      if onerow.startswith(\"#\"):\n",
    "        print onerow\n",
    "        outputrow = onerow.lstrip(\"#\").strip().strip(\",\").replace(\"'\",\"\").strip(\"()\").split(\",\")\n",
    "        print outputrow"
   ]
  },
  {
   "cell_type": "code",
   "execution_count": 22,
   "metadata": {},
   "outputs": [
    {
     "name": "stdout",
     "output_type": "stream",
     "text": [
      "It's not straight-forward to perform so-called tokenization\n"
     ]
    }
   ],
   "source": [
    "text4 = \"It's not straight-forward to perform so-called tokenization\"\n",
    "print text4"
   ]
  },
  {
   "cell_type": "code",
   "execution_count": 25,
   "metadata": {},
   "outputs": [
    {
     "name": "stdout",
     "output_type": "stream",
     "text": [
      "[\"It's\", 'not', 'straight-forward', 'to', 'perform', 'so-called', 'tokenization']\n",
      "[\"It's\", 'not', 'straight-forward', 'to', 'perform', 'so-called', 'tokenization']\n",
      "['It', 's', 'not', 'straight', 'forward', 'to', 'perform', 'so', 'called', 'tokenization']\n",
      "['It', 's', 'not', 'straight', 'forward', 'to', 'perform', 'so', 'called', 'tokenization']\n"
     ]
    }
   ],
   "source": [
    "import re\n",
    "print re.findall(\"[A-Za-z0-9]+\", text4) # alphabeta + number\n",
    "print re.findall(\"[\\w]+\", text4)\n",
    "print re.findall(\"[^ \\t\\n\\r\\f\\v]+\", text4) # any white space character\n",
    "print re.findall(\"[\\S]+\", text4)\n",
    "#[^0-9]"
   ]
  },
  {
   "cell_type": "code",
   "execution_count": 26,
   "metadata": {
    "collapsed": true
   },
   "outputs": [],
   "source": [
    "text5 = \"Next Friday @GSUSpotlight presents #GeorgiaState Night @ Georgia Aquarium: Panthers Under the Sea; don't miss it! @Robinson_College http://ow.ly/Zi3G30fm5Ls \""
   ]
  },
  {
   "cell_type": "code",
   "execution_count": 27,
   "metadata": {},
   "outputs": [
    {
     "name": "stdout",
     "output_type": "stream",
     "text": [
      "Next Friday @GSUSpotlight presents #GeorgiaState Night @ Georgia Aquarium: Panthers Under the Sea; don't miss it! @Robinson_College http://ow.ly/Zi3G30fm5Ls \n"
     ]
    }
   ],
   "source": [
    "print text5"
   ]
  },
  {
   "cell_type": "code",
   "execution_count": 28,
   "metadata": {},
   "outputs": [
    {
     "name": "stdout",
     "output_type": "stream",
     "text": [
      "['Next', 'Friday', '@GSUSpotlight', 'presents', '#GeorgiaState', 'Night', '@', 'Georgia', 'Aquarium:', 'Panthers', 'Under', 'the', 'Sea;', \"don't\", 'miss', 'it!', '@Robinson_College', 'http://ow.ly/Zi3G30fm5Ls', '']\n",
      "['#GeorgiaState']\n"
     ]
    }
   ],
   "source": [
    "text5List = text5.split(\" \")\n",
    "print text5List\n",
    "print [w for w in text5List if w.startswith(\"#\")]"
   ]
  },
  {
   "cell_type": "code",
   "execution_count": 29,
   "metadata": {},
   "outputs": [
    {
     "name": "stdout",
     "output_type": "stream",
     "text": [
      "['@GSUSpotlight', '@', '@Robinson_College']\n"
     ]
    }
   ],
   "source": [
    "print [w for w in text5List if w.startswith(\"@\")]"
   ]
  },
  {
   "cell_type": "code",
   "execution_count": 32,
   "metadata": {},
   "outputs": [
    {
     "name": "stdout",
     "output_type": "stream",
     "text": [
      "['@GSUSpotlight', '@', '@Robinson_College']\n",
      "['@GSUSpotlight', '@Robinson_College']\n",
      "['@GSUSpotlight', '@', '@Robinson_College']\n",
      "['@GSUSpotlight', '@', '@Robinson_College']\n"
     ]
    }
   ],
   "source": [
    "print [w for w in text5List if w.startswith(\"@\")]\n",
    "print [w for w in text5List if re.search(\"@[A-Za-z0-9]+\",w)]\n",
    "print [w for w in text5List if re.search(\"@[A-Za-z0-9]?\",w)]\n",
    "print [w for w in text5List if re.search(\"@[A-Za-z0-9]*\",w)]"
   ]
  },
  {
   "cell_type": "code",
   "execution_count": null,
   "metadata": {
    "collapsed": true
   },
   "outputs": [],
   "source": []
  }
 ],
 "metadata": {
  "kernelspec": {
   "display_name": "Python 2",
   "language": "python",
   "name": "python2"
  },
  "language_info": {
   "codemirror_mode": {
    "name": "ipython",
    "version": 2
   },
   "file_extension": ".py",
   "mimetype": "text/x-python",
   "name": "python",
   "nbconvert_exporter": "python",
   "pygments_lexer": "ipython2",
   "version": "2.7.13"
  },
  "latex_envs": {
   "LaTeX_envs_menu_present": true,
   "autocomplete": true,
   "bibliofile": "biblio.bib",
   "cite_by": "apalike",
   "current_citInitial": 1,
   "eqLabelWithNumbers": true,
   "eqNumInitial": 1,
   "hotkeys": {
    "equation": "Ctrl-E",
    "itemize": "Ctrl-I"
   },
   "labels_anchors": false,
   "latex_user_defs": false,
   "report_style_numbering": false,
   "user_envs_cfg": false
  }
 },
 "nbformat": 4,
 "nbformat_minor": 1
}
