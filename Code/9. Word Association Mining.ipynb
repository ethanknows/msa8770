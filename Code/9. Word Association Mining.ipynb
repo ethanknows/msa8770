{
 "cells": [
  {
   "cell_type": "code",
   "execution_count": 1,
   "metadata": {
    "collapsed": true
   },
   "outputs": [],
   "source": [
    "from nltk.stem.porter import PorterStemmer\n",
    "import nltk\n",
    "stemmer = PorterStemmer()\n",
    "\n",
    "def stem_tokens(tokens, stemmer):\n",
    "    stemmed = []\n",
    "    for item in tokens:\n",
    "        stemmed.append(stemmer.stem(item))\n",
    "    return stemmed\n",
    "\n",
    "def tokenize(text):\n",
    "    tokens = nltk.word_tokenize(text)\n",
    "    newtokens = [w for w in tokens if w.isalnum()]\n",
    "    stems = stem_tokens(tokens, stemmer)\n",
    "    return stems"
   ]
  },
  {
   "cell_type": "code",
   "execution_count": 2,
   "metadata": {
    "collapsed": true
   },
   "outputs": [],
   "source": [
    "doc_a = \"My cat eats fish on Saturday\"\n",
    "doc_b = \"His cat eats turkey on Tuesday\"\n",
    "doc_c = \"My dog eats meat on Sunday\"\n",
    "doc_d = \"His dog eats turkey on Tuesday\"\n",
    "doc_e = \"A computer is a device that can be instructed\"\n",
    "doc_f = \"The ability of computer to follow programs enables them\""
   ]
  },
  {
   "cell_type": "code",
   "execution_count": 3,
   "metadata": {},
   "outputs": [
    {
     "name": "stdout",
     "output_type": "stream",
     "text": [
      "['My  eats fish on Saturday His  eats turkey on Tuesday', 'My  eats meat on Sunday His  eats turkey on Tuesday', 'A  is a device that can be instructed The ability of  to follow programs enables them']\n"
     ]
    }
   ],
   "source": [
    "doc_cat = doc_a.replace(\"cat\", \"\") + \" \" + doc_b.replace(\"cat\", \"\")\n",
    "doc_dog = doc_c.replace(\"dog\", \"\") + \" \" + doc_d.replace(\"dog\", \"\")\n",
    "doc_computer = doc_e.replace(\"computer\", \"\") + \" \"+ doc_f.replace(\"computer\", \"\")\n",
    "\n",
    "doc_set = [doc_cat, doc_dog, doc_computer]\n",
    "print doc_set"
   ]
  },
  {
   "cell_type": "code",
   "execution_count": 4,
   "metadata": {},
   "outputs": [],
   "source": [
    "from sklearn.feature_extraction.text import TfidfVectorizer\n",
    "tfidf = TfidfVectorizer(tokenizer = tokenize, sublinear_tf=True)\n",
    "tfs = tfidf.fit_transform(doc_set)\n"
   ]
  },
  {
   "cell_type": "code",
   "execution_count": 16,
   "metadata": {},
   "outputs": [
    {
     "name": "stdout",
     "output_type": "stream",
     "text": [
      "[ 1.          0.73787158  0.        ]\n"
     ]
    }
   ],
   "source": [
    "from sklearn.metrics.pairwise import linear_kernel\n",
    "cosine_similarities = linear_kernel(tfs[0:1],tfs).flatten()\n",
    "print cosine_similarities"
   ]
  },
  {
   "cell_type": "code",
   "execution_count": 17,
   "metadata": {},
   "outputs": [
    {
     "name": "stdout",
     "output_type": "stream",
     "text": [
      "0.918295834054\n"
     ]
    }
   ],
   "source": [
    "import numpy as np\n",
    "#cat_turkey, cat_turkey, cat_fish, cat_turkey, dog_turkey, dog_meat\n",
    "H_turkey = -float(2)/6*np.log2(float(2)/6)-float(4)/6*np.log2(float(4)/6)\n",
    "print H_turkey"
   ]
  },
  {
   "cell_type": "code",
   "execution_count": 21,
   "metadata": {},
   "outputs": [
    {
     "name": "stdout",
     "output_type": "stream",
     "text": [
      "0.811278124459\n"
     ]
    }
   ],
   "source": [
    "#given cat equals to 1, cat_turkey, cat_turkey, cat_fish, cat_turkey\n",
    "#X is turkey, Y is cat\n",
    "#p(turkey=1|cat=1) = 3/4\n",
    "#p(turkey=0|cat=1) = 1/4\n",
    "H_turkey_cat_1 = -float(1)/4*np.log2(float(1)/4)-float(3)/4*np.log2(float(3)/4)\n",
    "print H_turkey_cat_1"
   ]
  },
  {
   "cell_type": "code",
   "execution_count": 20,
   "metadata": {},
   "outputs": [
    {
     "name": "stdout",
     "output_type": "stream",
     "text": [
      "1.0\n"
     ]
    }
   ],
   "source": [
    "# dog_turkey, dog_meat\n",
    "#p(turkey=0|cat=0) = 1/2\n",
    "#p(turkey=1|cat=0) = 1/2\n",
    "H_turkey_cat_0 = -float(1)/2*np.log2(float(1)/2)-float(1)/2*np.log2(float(1)/2)\n",
    "print H_turkey_cat_0"
   ]
  },
  {
   "cell_type": "code",
   "execution_count": 23,
   "metadata": {},
   "outputs": [
    {
     "name": "stdout",
     "output_type": "stream",
     "text": [
      "0.874185416306\n",
      "0.918295834054\n"
     ]
    }
   ],
   "source": [
    "#cat_turkey, cat_turkey, cat_fish, cat_turkey, dog_turkey, dog_meat\n",
    "\n",
    "#p(cat =1 ) = 2/3\n",
    "#p(cat=0) = 1/3\n",
    "H_turkey_cat = float(2)/3*H_turkey_cat_1 + float(1)/3* H_turkey_cat_0\n",
    "print H_turkey_cat\n",
    "print H_turkey"
   ]
  },
  {
   "cell_type": "code",
   "execution_count": 24,
   "metadata": {},
   "outputs": [
    {
     "name": "stdout",
     "output_type": "stream",
     "text": [
      "0.0441104177484\n"
     ]
    }
   ],
   "source": [
    "I_cat_turkey = H_turkey - H_turkey_cat\n",
    "print I_cat_turkey"
   ]
  },
  {
   "cell_type": "code",
   "execution_count": null,
   "metadata": {
    "collapsed": true
   },
   "outputs": [],
   "source": []
  }
 ],
 "metadata": {
  "kernelspec": {
   "display_name": "Python 2",
   "language": "python",
   "name": "python2"
  },
  "language_info": {
   "codemirror_mode": {
    "name": "ipython",
    "version": 2
   },
   "file_extension": ".py",
   "mimetype": "text/x-python",
   "name": "python",
   "nbconvert_exporter": "python",
   "pygments_lexer": "ipython2",
   "version": "2.7.13"
  },
  "latex_envs": {
   "LaTeX_envs_menu_present": true,
   "autocomplete": true,
   "bibliofile": "biblio.bib",
   "cite_by": "apalike",
   "current_citInitial": 1,
   "eqLabelWithNumbers": true,
   "eqNumInitial": 1,
   "hotkeys": {
    "equation": "Ctrl-E",
    "itemize": "Ctrl-I"
   },
   "labels_anchors": false,
   "latex_user_defs": false,
   "report_style_numbering": false,
   "user_envs_cfg": false
  }
 },
 "nbformat": 4,
 "nbformat_minor": 1
}
