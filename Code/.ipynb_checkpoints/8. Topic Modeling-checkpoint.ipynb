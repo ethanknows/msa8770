{
 "cells": [
  {
   "cell_type": "code",
   "execution_count": 1,
   "metadata": {
    "collapsed": true
   },
   "outputs": [],
   "source": [
    "doc_a = \"Brocolli is good to eat. My brother likes to eat good brocolli, but not my mother.\"\n",
    "doc_b = \"My mother spends a lot of time driving my brother around to baseball practice.\"\n",
    "doc_c = \"Some health experts suggest that driving may cause increased tension and blood pressure.\"\n",
    "doc_d = \"I often feel pressure to perform well at school, but my mother never seems to drive my brother to do better.\"\n",
    "doc_e = \"Health professionals say that brocolli is good for your health.\""
   ]
  },
  {
   "cell_type": "code",
   "execution_count": 2,
   "metadata": {
    "collapsed": true
   },
   "outputs": [],
   "source": [
    "# compile sample documents into a list\n",
    "doc_set = [doc_a, doc_b, doc_c, doc_d, doc_e]"
   ]
  },
  {
   "cell_type": "code",
   "execution_count": 3,
   "metadata": {},
   "outputs": [
    {
     "name": "stdout",
     "output_type": "stream",
     "text": [
      "['Brocolli is good to eat. My brother likes to eat good brocolli, but not my mother.', 'My mother spends a lot of time driving my brother around to baseball practice.', 'Some health experts suggest that driving may cause increased tension and blood pressure.', 'I often feel pressure to perform well at school, but my mother never seems to drive my brother to do better.', 'Health professionals say that brocolli is good for your health.']\n"
     ]
    }
   ],
   "source": [
    "print doc_set"
   ]
  },
  {
   "cell_type": "code",
   "execution_count": 4,
   "metadata": {},
   "outputs": [
    {
     "name": "stdout",
     "output_type": "stream",
     "text": [
      "['brocolli is good to eat. my brother likes to eat good brocolli, but not my mother.', 'my mother spends a lot of time driving my brother around to baseball practice.', 'some health experts suggest that driving may cause increased tension and blood pressure.', 'i often feel pressure to perform well at school, but my mother never seems to drive my brother to do better.', 'health professionals say that brocolli is good for your health.']\n"
     ]
    }
   ],
   "source": [
    "doc_lowers = [doc.lower() for doc in doc_set]\n",
    "print doc_lowers"
   ]
  },
  {
   "cell_type": "code",
   "execution_count": 5,
   "metadata": {},
   "outputs": [
    {
     "name": "stdout",
     "output_type": "stream",
     "text": [
      "['brocolli is good to eat my brother likes to eat good brocolli but not my mother', 'my mother spends a lot of time driving my brother around to baseball practice', 'some health experts suggest that driving may cause increased tension and blood pressure', 'i often feel pressure to perform well at school but my mother never seems to drive my brother to do better', 'health professionals say that brocolli is good for your health']\n"
     ]
    }
   ],
   "source": [
    "import string\n",
    "doc_no_punctuation = [doc.translate(None, string.punctuation) for doc in doc_lowers]\n",
    "print doc_no_punctuation"
   ]
  },
  {
   "cell_type": "code",
   "execution_count": 6,
   "metadata": {},
   "outputs": [
    {
     "name": "stdout",
     "output_type": "stream",
     "text": [
      "[['brocolli', 'is', 'good', 'to', 'eat', 'my', 'brother', 'likes', 'to', 'eat', 'good', 'brocolli', 'but', 'not', 'my', 'mother'], ['my', 'mother', 'spends', 'a', 'lot', 'of', 'time', 'driving', 'my', 'brother', 'around', 'to', 'baseball', 'practice'], ['some', 'health', 'experts', 'suggest', 'that', 'driving', 'may', 'cause', 'increased', 'tension', 'and', 'blood', 'pressure'], ['i', 'often', 'feel', 'pressure', 'to', 'perform', 'well', 'at', 'school', 'but', 'my', 'mother', 'never', 'seems', 'to', 'drive', 'my', 'brother', 'to', 'do', 'better'], ['health', 'professionals', 'say', 'that', 'brocolli', 'is', 'good', 'for', 'your', 'health']]\n"
     ]
    }
   ],
   "source": [
    "import nltk\n",
    "doc_tokens = [nltk.word_tokenize(doc) for doc in doc_no_punctuation]\n",
    "print doc_tokens"
   ]
  },
  {
   "cell_type": "code",
   "execution_count": 7,
   "metadata": {},
   "outputs": [
    {
     "name": "stdout",
     "output_type": "stream",
     "text": [
      "[['brocolli', 'good', 'eat', 'brother', u'like', 'eat', 'good', 'brocolli', 'mother'], ['mother', u'spend', 'lot', 'time', u'drive', 'brother', 'around', u'basebal', u'practic'], ['health', u'expert', 'suggest', u'drive', 'may', u'caus', u'increas', 'tension', 'blood', u'pressur'], ['often', 'feel', u'pressur', 'perform', 'well', 'school', 'mother', 'never', u'seem', 'drive', 'brother', 'better'], ['health', u'profession', 'say', 'brocolli', 'good', 'health']]\n"
     ]
    }
   ],
   "source": [
    "#stop word removal\n",
    "from nltk.corpus import stopwords\n",
    "from nltk.stem import PorterStemmer\n",
    "ps = PorterStemmer()\n",
    "\n",
    "doc_stemmed = []\n",
    "for one_doc in doc_tokens:\n",
    "    doc_filtered = [w for w in one_doc if not w in stopwords.words(\"english\")]\n",
    "    doc_stem = [ps.stem(w) for w in doc_filtered]\n",
    "    doc_stemmed.append(doc_stem)\n",
    "print doc_stemmed"
   ]
  },
  {
   "cell_type": "code",
   "execution_count": 8,
   "metadata": {
    "collapsed": true
   },
   "outputs": [],
   "source": [
    "from gensim import corpora, models\n",
    "\n",
    "dictionary = corpora.Dictionary(doc_stemmed)"
   ]
  },
  {
   "cell_type": "code",
   "execution_count": 9,
   "metadata": {},
   "outputs": [
    {
     "name": "stdout",
     "output_type": "stream",
     "text": [
      "often\n",
      "feel\n",
      "profession\n",
      "drive\n",
      "say\n",
      "pressur\n",
      "basebal\n",
      "seem\n",
      "expert\n",
      "perform\n",
      "suggest\n",
      "better\n",
      "health\n",
      "lot\n",
      "tension\n",
      "good\n",
      "around\n",
      "may\n",
      "mother\n",
      "school\n",
      "blood\n",
      "never\n",
      "increas\n",
      "eat\n",
      "practic\n",
      "brocolli\n",
      "like\n",
      "well\n",
      "brother\n",
      "caus\n",
      "time\n",
      "spend\n"
     ]
    }
   ],
   "source": [
    "for i in dictionary:    \n",
    "    print dictionary[i]"
   ]
  },
  {
   "cell_type": "code",
   "execution_count": 10,
   "metadata": {},
   "outputs": [
    {
     "name": "stdout",
     "output_type": "stream",
     "text": [
      "profession\n",
      "brocolli\n",
      "32\n"
     ]
    }
   ],
   "source": [
    "print dictionary[31]\n",
    "print dictionary[0]\n",
    "print len(dictionary)"
   ]
  },
  {
   "cell_type": "code",
   "execution_count": 12,
   "metadata": {},
   "outputs": [
    {
     "data": {
      "text/plain": [
       "<gensim.corpora.dictionary.Dictionary at 0x1a07bbc350>"
      ]
     },
     "execution_count": 12,
     "metadata": {},
     "output_type": "execute_result"
    }
   ],
   "source": [
    "dictionary"
   ]
  },
  {
   "cell_type": "code",
   "execution_count": 13,
   "metadata": {
    "scrolled": true
   },
   "outputs": [
    {
     "name": "stdout",
     "output_type": "stream",
     "text": [
      "{u'often': 23, u'feel': 24, u'profession': 31, u'drive': 8, u'say': 30, u'pressur': 18, u'basebal': 7, u'seem': 29, u'expert': 14, u'perform': 28, u'suggest': 16, u'better': 27, u'health': 19, u'lot': 9, u'tension': 13, u'good': 1, u'around': 6, u'may': 15, u'mother': 4, u'school': 22, u'blood': 20, u'never': 25, u'increas': 21, u'eat': 5, u'practic': 12, u'brocolli': 0, u'like': 2, u'well': 26, u'brother': 3, u'caus': 17, u'time': 10, u'spend': 11}\n"
     ]
    }
   ],
   "source": [
    "#The Dictionary() function traverses texts, assigning a unique integer id to each unique token \n",
    "#while also collecting word counts and relevant statistics. \n",
    "#To see each token’s unique integer id, try print(dictionary.token2id).\n",
    "print dictionary.token2id"
   ]
  },
  {
   "cell_type": "code",
   "execution_count": 14,
   "metadata": {
    "collapsed": true
   },
   "outputs": [],
   "source": [
    "#The doc2bow() function converts dictionary into a bag-of-words. \n",
    "#The result, corpus, is a list of vectors equal to the number of documents. \n",
    "#In each document vector is a series of tuples. As an example, print(corpus[0]) results in the following:\n",
    "\n",
    "corpus = [dictionary.doc2bow(text) for text in doc_stemmed]"
   ]
  },
  {
   "cell_type": "code",
   "execution_count": 15,
   "metadata": {},
   "outputs": [
    {
     "name": "stdout",
     "output_type": "stream",
     "text": [
      "[(0, 2), (1, 2), (2, 1), (3, 1), (4, 1), (5, 2)]\n"
     ]
    }
   ],
   "source": [
    "#This list of tuples represents our first document, doc_a. \n",
    "#The tuples are (term ID, term frequency) pairs, so if \n",
    "#print(dictionary.token2id) says brocolli’s id is 0, \n",
    "#then the first tuple indicates that brocolli appeared twice in doc_a. doc2bow() \n",
    "#only includes terms that actually occur: terms that do not occur in \n",
    "#a document will not appear in that document’s vector.\n",
    "print corpus[0]"
   ]
  },
  {
   "cell_type": "code",
   "execution_count": 16,
   "metadata": {
    "collapsed": true
   },
   "outputs": [],
   "source": [
    "#num_topics: required. An LDA model requires the user to determine how many topics should be generated. \n",
    "#Our document set is small, so we’re only asking for three topics.\n",
    "#id2word: required. The LdaModel class requires our previous dictionary to map ids to strings.\n",
    "#passes: optional. The number of laps the model will take through corpus. \n",
    "#The greater the number of passes, the more accurate the model will be. \n",
    "#A lot of passes can be slow on a very large corpus. \n",
    "\n",
    "#test with passes = 20 or not\n",
    "import gensim\n",
    "\n",
    "ldamodel = gensim.models.ldamodel.LdaModel(corpus, num_topics=3, id2word = dictionary, passes = 20)"
   ]
  },
  {
   "cell_type": "code",
   "execution_count": 17,
   "metadata": {},
   "outputs": [
    {
     "name": "stdout",
     "output_type": "stream",
     "text": [
      "[(0, u'0.056*\"pressur\" + 0.056*\"eat\" + 0.056*\"drive\"'), (1, u'0.068*\"brother\" + 0.068*\"mother\" + 0.068*\"drive\"'), (2, u'0.141*\"health\" + 0.080*\"good\" + 0.080*\"brocolli\"')]\n"
     ]
    }
   ],
   "source": [
    "#Each generated topic is separated by a comma. \n",
    "#Within each topic are the three most probable words to appear in that topic. \n",
    "#Even though our document set is small the model is reasonable.\n",
    "\n",
    "print ldamodel.print_topics(num_topics=3, num_words=3)"
   ]
  },
  {
   "cell_type": "code",
   "execution_count": 19,
   "metadata": {},
   "outputs": [
    {
     "name": "stdout",
     "output_type": "stream",
     "text": [
      "[(0, u'0.067*\"drive\" + 0.066*\"pressur\" + 0.039*\"well\" + 0.039*\"feel\"'), (1, u'0.087*\"good\" + 0.087*\"brocolli\" + 0.063*\"brother\" + 0.063*\"mother\"')]\n"
     ]
    }
   ],
   "source": [
    "#Adjusting the model’s number of topics and passes is important to getting a good result. \n",
    "#Two topics seems like a better fit for our documents:\n",
    "\n",
    "ldamodel = gensim.models.ldamodel.LdaModel(corpus, num_topics=2, id2word = dictionary, passes=20)\n",
    "print ldamodel.print_topics(num_topics=2, num_words=4)"
   ]
  },
  {
   "cell_type": "code",
   "execution_count": 20,
   "metadata": {},
   "outputs": [
    {
     "name": "stdout",
     "output_type": "stream",
     "text": [
      "[(0, 0.05276112178666139), (1, 0.94723887821333863)]\n"
     ]
    }
   ],
   "source": [
    "print ldamodel[corpus[0]]"
   ]
  },
  {
   "cell_type": "code",
   "execution_count": 1,
   "metadata": {},
   "outputs": [
    {
     "ename": "NameError",
     "evalue": "name 'corpus' is not defined",
     "output_type": "error",
     "traceback": [
      "\u001b[0;31m---------------------------------------------------------------------------\u001b[0m",
      "\u001b[0;31mNameError\u001b[0m                                 Traceback (most recent call last)",
      "\u001b[0;32m<ipython-input-1-92e77573fcbe>\u001b[0m in \u001b[0;36m<module>\u001b[0;34m()\u001b[0m\n\u001b[1;32m      5\u001b[0m \u001b[0mdoc_e\u001b[0m \u001b[0;34m=\u001b[0m \u001b[0;34m\"Health professionals say that brocolli is good for your health.\"\u001b[0m\u001b[0;34m\u001b[0m\u001b[0m\n\u001b[1;32m      6\u001b[0m \u001b[0;34m\u001b[0m\u001b[0m\n\u001b[0;32m----> 7\u001b[0;31m \u001b[0;32mfor\u001b[0m \u001b[0mi\u001b[0m \u001b[0;32min\u001b[0m \u001b[0mrange\u001b[0m\u001b[0;34m(\u001b[0m\u001b[0mlen\u001b[0m\u001b[0;34m(\u001b[0m\u001b[0mcorpus\u001b[0m\u001b[0;34m)\u001b[0m\u001b[0;34m)\u001b[0m\u001b[0;34m:\u001b[0m\u001b[0;34m\u001b[0m\u001b[0m\n\u001b[0m\u001b[1;32m      8\u001b[0m     \u001b[0;32mprint\u001b[0m \u001b[0mi\u001b[0m\u001b[0;34m,\u001b[0m \u001b[0mldamodel\u001b[0m\u001b[0;34m[\u001b[0m\u001b[0mcorpus\u001b[0m\u001b[0;34m[\u001b[0m\u001b[0mi\u001b[0m\u001b[0;34m]\u001b[0m\u001b[0;34m]\u001b[0m\u001b[0;34m\u001b[0m\u001b[0m\n",
      "\u001b[0;31mNameError\u001b[0m: name 'corpus' is not defined"
     ]
    }
   ],
   "source": [
    "doc_a = \"Brocolli is good to eat. My brother likes to eat good brocolli, but not my mother.\"\n",
    "doc_b = \"My mother spends a lot of time driving my brother around to baseball practice.\"\n",
    "doc_c = \"Some health experts suggest that driving may cause increased tension and blood pressure.\"\n",
    "doc_d = \"I often feel pressure to perform well at school, but my mother never seems to drive my brother to do better.\"\n",
    "doc_e = \"Health professionals say that brocolli is good for your health.\"\n",
    "\n",
    "for i in range(len(corpus)):\n",
    "    print i, ldamodel[corpus[i]]"
   ]
  },
  {
   "cell_type": "code",
   "execution_count": null,
   "metadata": {
    "collapsed": true
   },
   "outputs": [],
   "source": []
  },
  {
   "cell_type": "code",
   "execution_count": null,
   "metadata": {
    "collapsed": true
   },
   "outputs": [],
   "source": []
  },
  {
   "cell_type": "code",
   "execution_count": null,
   "metadata": {
    "collapsed": true
   },
   "outputs": [],
   "source": []
  },
  {
   "cell_type": "code",
   "execution_count": null,
   "metadata": {
    "collapsed": true
   },
   "outputs": [],
   "source": []
  }
 ],
 "metadata": {
  "kernelspec": {
   "display_name": "Python 2",
   "language": "python",
   "name": "python2"
  },
  "language_info": {
   "codemirror_mode": {
    "name": "ipython",
    "version": 2
   },
   "file_extension": ".py",
   "mimetype": "text/x-python",
   "name": "python",
   "nbconvert_exporter": "python",
   "pygments_lexer": "ipython2",
   "version": "2.7.13"
  },
  "latex_envs": {
   "LaTeX_envs_menu_present": true,
   "autocomplete": true,
   "bibliofile": "biblio.bib",
   "cite_by": "apalike",
   "current_citInitial": 1,
   "eqLabelWithNumbers": true,
   "eqNumInitial": 1,
   "hotkeys": {
    "equation": "Ctrl-E",
    "itemize": "Ctrl-I"
   },
   "labels_anchors": false,
   "latex_user_defs": false,
   "report_style_numbering": false,
   "user_envs_cfg": false
  }
 },
 "nbformat": 4,
 "nbformat_minor": 1
}
