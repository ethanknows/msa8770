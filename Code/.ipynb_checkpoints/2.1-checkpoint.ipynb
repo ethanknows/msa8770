{
 "cells": [
  {
   "cell_type": "code",
   "execution_count": 1,
   "metadata": {
    "collapsed": true
   },
   "outputs": [],
   "source": [
    "import nltk\n",
    "import string\n",
    "import csv\n",
    "from nltk.stem.porter import PorterStemmer\n",
    "from nltk.corpus import stopwords\n",
    "from gensim import corpora, models\n",
    "import pandas as pd\n",
    "import numpy as np"
   ]
  },
  {
   "cell_type": "code",
   "execution_count": 2,
   "metadata": {
    "collapsed": true
   },
   "outputs": [],
   "source": [
    "token_dict = {}\n",
    "for file in range(1,20):\n",
    "    text = \"\"\n",
    "    Homeworkcsvfile = open(\"Homework_1.csv\",\"r\",)\n",
    "    csvreader = csv.reader(Homeworkcsvfile, delimiter = \"^\")\n",
    "    for row in csvreader:\n",
    "        if row[0] == str(file):\n",
    "            text = text + row[-2]\n",
    "    lowers = text.lower()\n",
    "    no_punctuation = lowers.translate(None, string.punctuation)\n",
    "    token_dict[file] = no_punctuation\n",
    "decode_token = [w.decode(\"utf-8\") for w in token_dict.values()]"
   ]
  },
  {
   "cell_type": "code",
   "execution_count": 3,
   "metadata": {
    "collapsed": true,
    "scrolled": true
   },
   "outputs": [],
   "source": [
    "doc_tokens = [nltk.word_tokenize(doc) for doc in decode_token]\n",
    "ps = PorterStemmer()\n",
    "doc_stemmed = []\n",
    "for one_doc in doc_tokens:\n",
    "    doc_filtered = [w for w in one_doc if not w in stopwords.words(\"english\")]\n",
    "    doc_stem = [ps.stem(w).encode(\"utf-8\") for w in doc_filtered]\n",
    "    doc_stemmed.append(doc_stem)"
   ]
  },
  {
   "cell_type": "code",
   "execution_count": 4,
   "metadata": {
    "collapsed": true
   },
   "outputs": [],
   "source": [
    "dictionary = corpora.Dictionary(doc_stemmed)\n",
    "corpus = [dictionary.doc2bow(text) for text in doc_stemmed]\n",
    "ldamodel = models.ldamodel.LdaModel(corpus, num_topics=10, id2word = dictionary, passes = 20,chunksize=10000)"
   ]
  },
  {
   "cell_type": "code",
   "execution_count": 5,
   "metadata": {
    "scrolled": true
   },
   "outputs": [
    {
     "data": {
      "text/plain": [
       "[(0, u'0.030*\"grind\" + 0.029*\"use\" + 0.028*\"coffe\"'),\n",
       " (1, u'0.057*\"filter\" + 0.046*\"water\" + 0.023*\"brita\"'),\n",
       " (2, u'0.031*\"popcorn\" + 0.021*\"love\" + 0.016*\"make\"'),\n",
       " (3, u'0.027*\"great\" + 0.022*\"lid\" + 0.021*\"pyrex\"'),\n",
       " (4, u'0.027*\"use\" + 0.021*\"band\" + 0.020*\"great\"'),\n",
       " (5, u'0.043*\"pillow\" + 0.019*\"love\" + 0.018*\"use\"'),\n",
       " (6, u'0.029*\"fire\" + 0.012*\"hous\" + 0.012*\"extinguish\"'),\n",
       " (7, u'0.027*\"use\" + 0.026*\"great\" + 0.019*\"work\"'),\n",
       " (8, u'0.001*\"use\" + 0.001*\"filter\" + 0.001*\"pillow\"'),\n",
       " (9, u'0.018*\"test\" + 0.016*\"line\" + 0.011*\"get\"')]"
      ]
     },
     "execution_count": 5,
     "metadata": {},
     "output_type": "execute_result"
    }
   ],
   "source": [
    "ldamodel.print_topics(num_topics=10, num_words=3)"
   ]
  },
  {
   "cell_type": "code",
   "execution_count": 6,
   "metadata": {
    "collapsed": true
   },
   "outputs": [],
   "source": [
    "raw_topics = [s for n,s in ldamodel.print_topics(num_topics=10, num_words=3)]\n",
    "strip = '0123456789*.\"'\n",
    "topics = [''.join([i for i in s.encode().replace(\" +\",\",\") if not i in strip]).replace(\" +\", \",\") for s in raw_topics]"
   ]
  },
  {
   "cell_type": "code",
   "execution_count": 7,
   "metadata": {},
   "outputs": [
    {
     "data": {
      "text/plain": [
       "['grind, use, coffe',\n",
       " 'filter, water, brita',\n",
       " 'popcorn, love, make',\n",
       " 'great, lid, pyrex',\n",
       " 'use, band, great',\n",
       " 'pillow, love, use',\n",
       " 'fire, hous, extinguish',\n",
       " 'use, great, work',\n",
       " 'use, filter, pillow',\n",
       " 'test, line, get']"
      ]
     },
     "execution_count": 7,
     "metadata": {},
     "output_type": "execute_result"
    }
   ],
   "source": [
    "topics"
   ]
  },
  {
   "cell_type": "code",
   "execution_count": 10,
   "metadata": {
    "collapsed": true
   },
   "outputs": [],
   "source": [
    "result = {}\n",
    "for i in range(len(corpus)):\n",
    "    df = pd.DataFrame(zip(topics,[p for t, p in ldamodel.get_document_topics(corpus[i],minimum_probability=1e-4)]),\n",
    "                      columns = [\"topics\",\"prob\"])\n",
    "    df.sort_values(by = \"prob\", ascending=0,inplace=True)\n",
    "    df = df.head(2)\n",
    "    df[\"top_two\"] = df.prob.map(str) + \"*[\" + df.topics + \"]\"\n",
    "    result[i+1] = df.top_two.values"
   ]
  },
  {
   "cell_type": "code",
   "execution_count": 11,
   "metadata": {},
   "outputs": [
    {
     "data": {
      "text/plain": [
       "{1: array(['0.999091700077*[use, band, great]',\n",
       "        '0.000100935267334*[grind, use, coffe]'], dtype=object),\n",
       " 2: array(['0.998734004517*[use, band, great]',\n",
       "        '0.000140679430887*[grind, use, coffe]'], dtype=object),\n",
       " 3: array(['0.996841722428*[fire, hous, extinguish]',\n",
       "        '0.000350936969028*[grind, use, coffe]'], dtype=object),\n",
       " 4: array(['0.567548073123*[grind, use, coffe]',\n",
       "        '0.430152741808*[great, lid, pyrex]'], dtype=object),\n",
       " 5: array(['0.983465130409*[use, great, work]',\n",
       "        '0.0138499600704*[use, band, great]'], dtype=object),\n",
       " 6: array(['0.997772009666*[use, great, work]',\n",
       "        '0.000247571291119*[grind, use, coffe]'], dtype=object),\n",
       " 7: array(['0.424902603409*[use, great, work]',\n",
       "        '0.384305043094*[grind, use, coffe]'], dtype=object),\n",
       " 8: array(['0.99943388888*[grind, use, coffe]'], dtype=object),\n",
       " 9: array(['0.999164237744*[grind, use, coffe]'], dtype=object),\n",
       " 10: array(['0.999048518779*[popcorn, love, make]',\n",
       "        '0.000105725821554*[use, band, great]'], dtype=object),\n",
       " 11: array(['0.993128874339*[grind, use, coffe]',\n",
       "        '0.000763516598138*[great, lid, pyrex]'], dtype=object),\n",
       " 12: array(['0.989533371507*[use, great, work]',\n",
       "        '0.00116321082527*[great, lid, pyrex]'], dtype=object),\n",
       " 13: array(['0.995311923668*[test, line, get]',\n",
       "        '0.00052092631415*[filter, water, brita]'], dtype=object),\n",
       " 14: array(['0.998621587588*[great, lid, pyrex]',\n",
       "        '0.000153169713381*[use, band, great]'], dtype=object),\n",
       " 15: array(['0.986954592127*[popcorn, love, make]',\n",
       "        '0.00144983391538*[grind, use, coffe]'], dtype=object),\n",
       " 16: array(['0.994704928164*[use, band, great]',\n",
       "        '0.000588387702205*[popcorn, love, make]'], dtype=object),\n",
       " 17: array(['0.998928447097*[pillow, love, use]',\n",
       "        '0.000119067400787*[use, great, work]'], dtype=object),\n",
       " 18: array(['0.995926997946*[popcorn, love, make]',\n",
       "        '0.000452606244596*[use, band, great]'], dtype=object),\n",
       " 19: array(['0.984279399825*[popcorn, love, make]',\n",
       "        '0.0122112338369*[use, band, great]'], dtype=object)}"
      ]
     },
     "execution_count": 11,
     "metadata": {},
     "output_type": "execute_result"
    }
   ],
   "source": [
    "result"
   ]
  },
  {
   "cell_type": "code",
   "execution_count": null,
   "metadata": {
    "collapsed": true
   },
   "outputs": [],
   "source": []
  }
 ],
 "metadata": {
  "kernelspec": {
   "display_name": "Python 2",
   "language": "python",
   "name": "python2"
  },
  "language_info": {
   "codemirror_mode": {
    "name": "ipython",
    "version": 2
   },
   "file_extension": ".py",
   "mimetype": "text/x-python",
   "name": "python",
   "nbconvert_exporter": "python",
   "pygments_lexer": "ipython2",
   "version": "2.7.13"
  },
  "latex_envs": {
   "LaTeX_envs_menu_present": true,
   "autocomplete": true,
   "bibliofile": "biblio.bib",
   "cite_by": "apalike",
   "current_citInitial": 1,
   "eqLabelWithNumbers": true,
   "eqNumInitial": 1,
   "hotkeys": {
    "equation": "Ctrl-E",
    "itemize": "Ctrl-I"
   },
   "labels_anchors": false,
   "latex_user_defs": false,
   "report_style_numbering": false,
   "user_envs_cfg": false
  }
 },
 "nbformat": 4,
 "nbformat_minor": 2
}
