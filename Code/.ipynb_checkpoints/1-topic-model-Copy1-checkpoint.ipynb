{
 "cells": [
  {
   "cell_type": "code",
   "execution_count": 1,
   "metadata": {
    "collapsed": true
   },
   "outputs": [],
   "source": [
    "import nltk\n",
    "import string\n",
    "import csv\n",
    "from nltk.stem.porter import PorterStemmer\n",
    "from nltk.corpus import stopwords\n",
    "from gensim import corpora, models\n",
    "import pandas as pd\n",
    "import numpy as np"
   ]
  },
  {
   "cell_type": "code",
   "execution_count": 2,
   "metadata": {
    "collapsed": true
   },
   "outputs": [],
   "source": [
    "token_dict = {}\n",
    "for file in range(1,20):\n",
    "    text = \"\"\n",
    "    Homeworkcsvfile = open(\"Homework_1.csv\",\"r\",)\n",
    "    csvreader = csv.reader(Homeworkcsvfile, delimiter = \"^\")\n",
    "    for row in csvreader:\n",
    "        if row[0] == str(file):\n",
    "            text = text + row[-2]\n",
    "    lowers = text.lower()\n",
    "    no_punctuation = lowers.translate(None, string.punctuation)\n",
    "    token_dict[file] = no_punctuation\n",
    "decode_token = [w.decode(\"utf-8\") for w in token_dict.values()]"
   ]
  },
  {
   "cell_type": "code",
   "execution_count": 3,
   "metadata": {
    "collapsed": true,
    "scrolled": true
   },
   "outputs": [],
   "source": [
    "doc_tokens = [nltk.word_tokenize(doc) for doc in decode_token]\n",
    "ps = PorterStemmer()\n",
    "doc_stemmed = []\n",
    "for one_doc in doc_tokens:\n",
    "    doc_filtered = [w for w in one_doc if not w in stopwords.words(\"english\")]\n",
    "    doc_stem = [ps.stem(w).encode(\"utf-8\") for w in doc_filtered]\n",
    "    doc_stemmed.append(doc_stem)"
   ]
  },
  {
   "cell_type": "code",
   "execution_count": 5,
   "metadata": {
    "collapsed": true
   },
   "outputs": [],
   "source": [
    "dictionary = corpora.Dictionary(doc_stemmed)\n",
    "corpus = [dictionary.doc2bow(text) for text in doc_stemmed]\n",
    "ldamodel = models.ldamodel.LdaModel(corpus, num_topics=10, id2word = dictionary, passes = 20,chunksize=10000)"
   ]
  },
  {
   "cell_type": "code",
   "execution_count": 6,
   "metadata": {},
   "outputs": [
    {
     "data": {
      "text/plain": [
       "[(0, u'0.011*\"great\" + 0.011*\"product\" + 0.007*\"use\"'),\n",
       " (1, u'0.030*\"grind\" + 0.027*\"coffe\" + 0.024*\"great\"'),\n",
       " (2, u'0.027*\"use\" + 0.025*\"great\" + 0.019*\"band\"'),\n",
       " (3, u'0.030*\"use\" + 0.023*\"work\" + 0.022*\"great\"'),\n",
       " (4, u'0.057*\"filter\" + 0.047*\"water\" + 0.023*\"brita\"'),\n",
       " (5, u'0.001*\"great\" + 0.001*\"use\" + 0.001*\"water\"'),\n",
       " (6, u'0.032*\"window\" + 0.017*\"use\" + 0.015*\"cold\"'),\n",
       " (7, u'0.029*\"fire\" + 0.013*\"extinguish\" + 0.013*\"hous\"'),\n",
       " (8, u'0.023*\"popcorn\" + 0.020*\"pillow\" + 0.019*\"use\"'),\n",
       " (9, u'0.018*\"test\" + 0.016*\"line\" + 0.011*\"get\"')]"
      ]
     },
     "execution_count": 6,
     "metadata": {},
     "output_type": "execute_result"
    }
   ],
   "source": [
    "ldamodel.print_topics(num_topics=10, num_words=3)"
   ]
  },
  {
   "cell_type": "code",
   "execution_count": 9,
   "metadata": {
    "collapsed": true
   },
   "outputs": [],
   "source": [
    "raw_topics = [s for n,s in ldamodel.print_topics(num_topics=10, num_words=3)]\n",
    "strip = '0123456789*.\"'\n",
    "topics = [''.join([i for i in s.encode().replace(\" +\",\",\") if not i in strip]).replace(\" +\", \",\") for s in raw_topics]"
   ]
  },
  {
   "cell_type": "code",
   "execution_count": 10,
   "metadata": {},
   "outputs": [
    {
     "data": {
      "text/plain": [
       "['great, product, use',\n",
       " 'grind, coffe, great',\n",
       " 'use, great, band',\n",
       " 'use, work, great',\n",
       " 'filter, water, brita',\n",
       " 'great, use, water',\n",
       " 'window, use, cold',\n",
       " 'fire, extinguish, hous',\n",
       " 'popcorn, pillow, use',\n",
       " 'test, line, get']"
      ]
     },
     "execution_count": 10,
     "metadata": {},
     "output_type": "execute_result"
    }
   ],
   "source": [
    "topics"
   ]
  },
  {
   "cell_type": "code",
   "execution_count": 11,
   "metadata": {},
   "outputs": [
    {
     "data": {
      "text/html": [
       "<div>\n",
       "<style>\n",
       "    .dataframe thead tr:only-child th {\n",
       "        text-align: right;\n",
       "    }\n",
       "\n",
       "    .dataframe thead th {\n",
       "        text-align: left;\n",
       "    }\n",
       "\n",
       "    .dataframe tbody tr th {\n",
       "        vertical-align: top;\n",
       "    }\n",
       "</style>\n",
       "<table border=\"1\" class=\"dataframe\">\n",
       "  <thead>\n",
       "    <tr style=\"text-align: right;\">\n",
       "      <th></th>\n",
       "      <th>Product ID</th>\n",
       "      <th>Probability*Topic 1</th>\n",
       "      <th>Probability*Topic 2</th>\n",
       "    </tr>\n",
       "  </thead>\n",
       "  <tbody>\n",
       "    <tr>\n",
       "      <th>0</th>\n",
       "      <td>1</td>\n",
       "      <td>0.999091737511*[use, great, band]</td>\n",
       "      <td>0.00010092349957*[grind, coffe, great]</td>\n",
       "    </tr>\n",
       "    <tr>\n",
       "      <th>1</th>\n",
       "      <td>2</td>\n",
       "      <td>0.998734029905*[window, use, cold]</td>\n",
       "      <td>0.000140673850373*[use, great, band]</td>\n",
       "    </tr>\n",
       "    <tr>\n",
       "      <th>2</th>\n",
       "      <td>3</td>\n",
       "      <td>0.996841744828*[fire, extinguish, hous]</td>\n",
       "      <td>0.000350946012036*[use, great, band]</td>\n",
       "    </tr>\n",
       "    <tr>\n",
       "      <th>3</th>\n",
       "      <td>4</td>\n",
       "      <td>0.997413534069*[use, work, great]</td>\n",
       "      <td>0.000287409340145*[use, great, band]</td>\n",
       "    </tr>\n",
       "    <tr>\n",
       "      <th>4</th>\n",
       "      <td>5</td>\n",
       "      <td>0.996979479498*[use, great, band]</td>\n",
       "      <td>0.000335658621147*[filter, water, brita]</td>\n",
       "    </tr>\n",
       "    <tr>\n",
       "      <th>5</th>\n",
       "      <td>6</td>\n",
       "      <td>0.997772023683*[use, work, great]</td>\n",
       "      <td>0.000247585320436*[popcorn, pillow, use]</td>\n",
       "    </tr>\n",
       "    <tr>\n",
       "      <th>6</th>\n",
       "      <td>7</td>\n",
       "      <td>0.975672832803*[grind, coffe, great]</td>\n",
       "      <td>0.00270341562788*[use, work, great]</td>\n",
       "    </tr>\n",
       "    <tr>\n",
       "      <th>7</th>\n",
       "      <td>8</td>\n",
       "      <td>0.834555118652*[great, product, use]</td>\n",
       "      <td>0.164941662025*[grind, coffe, great]</td>\n",
       "    </tr>\n",
       "    <tr>\n",
       "      <th>8</th>\n",
       "      <td>9</td>\n",
       "      <td>0.993474760551*[great, product, use]</td>\n",
       "      <td>0.00578234383792*[grind, coffe, great]</td>\n",
       "    </tr>\n",
       "    <tr>\n",
       "      <th>9</th>\n",
       "      <td>10</td>\n",
       "      <td>0.999048508992*[popcorn, pillow, use]</td>\n",
       "      <td>0.000105734898064*[use, great, band]</td>\n",
       "    </tr>\n",
       "    <tr>\n",
       "      <th>10</th>\n",
       "      <td>11</td>\n",
       "      <td>0.993128913573*[use, work, great]</td>\n",
       "      <td>0.000763505984757*[use, great, band]</td>\n",
       "    </tr>\n",
       "    <tr>\n",
       "      <th>11</th>\n",
       "      <td>12</td>\n",
       "      <td>0.989533476702*[great, product, use]</td>\n",
       "      <td>0.00116306604143*[use, work, great]</td>\n",
       "    </tr>\n",
       "    <tr>\n",
       "      <th>12</th>\n",
       "      <td>13</td>\n",
       "      <td>0.995311953933*[test, line, get]</td>\n",
       "      <td>0.000520927585248*[filter, water, brita]</td>\n",
       "    </tr>\n",
       "    <tr>\n",
       "      <th>13</th>\n",
       "      <td>14</td>\n",
       "      <td>0.998621589997*[grind, coffe, great]</td>\n",
       "      <td>0.00015317161682*[use, great, band]</td>\n",
       "    </tr>\n",
       "    <tr>\n",
       "      <th>14</th>\n",
       "      <td>15</td>\n",
       "      <td>0.986954796586*[use, great, band]</td>\n",
       "      <td>0.00144987229435*[grind, coffe, great]</td>\n",
       "    </tr>\n",
       "    <tr>\n",
       "      <th>15</th>\n",
       "      <td>16</td>\n",
       "      <td>0.994705219554*[use, great, band]</td>\n",
       "      <td>0.0005883602308*[use, work, great]</td>\n",
       "    </tr>\n",
       "    <tr>\n",
       "      <th>16</th>\n",
       "      <td>17</td>\n",
       "      <td>0.998928453585*[popcorn, pillow, use]</td>\n",
       "      <td>0.000119074829918*[use, great, band]</td>\n",
       "    </tr>\n",
       "    <tr>\n",
       "      <th>17</th>\n",
       "      <td>18</td>\n",
       "      <td>0.995927117723*[use, great, band]</td>\n",
       "      <td>0.000452601663806*[popcorn, pillow, use]</td>\n",
       "    </tr>\n",
       "    <tr>\n",
       "      <th>18</th>\n",
       "      <td>19</td>\n",
       "      <td>0.996052005679*[popcorn, pillow, use]</td>\n",
       "      <td>0.000438751578698*[use, great, band]</td>\n",
       "    </tr>\n",
       "  </tbody>\n",
       "</table>\n",
       "</div>"
      ],
      "text/plain": [
       "    Product ID                      Probability*Topic 1  \\\n",
       "0            1        0.999091737511*[use, great, band]   \n",
       "1            2       0.998734029905*[window, use, cold]   \n",
       "2            3  0.996841744828*[fire, extinguish, hous]   \n",
       "3            4        0.997413534069*[use, work, great]   \n",
       "4            5        0.996979479498*[use, great, band]   \n",
       "5            6        0.997772023683*[use, work, great]   \n",
       "6            7     0.975672832803*[grind, coffe, great]   \n",
       "7            8     0.834555118652*[great, product, use]   \n",
       "8            9     0.993474760551*[great, product, use]   \n",
       "9           10    0.999048508992*[popcorn, pillow, use]   \n",
       "10          11        0.993128913573*[use, work, great]   \n",
       "11          12     0.989533476702*[great, product, use]   \n",
       "12          13         0.995311953933*[test, line, get]   \n",
       "13          14     0.998621589997*[grind, coffe, great]   \n",
       "14          15        0.986954796586*[use, great, band]   \n",
       "15          16        0.994705219554*[use, great, band]   \n",
       "16          17    0.998928453585*[popcorn, pillow, use]   \n",
       "17          18        0.995927117723*[use, great, band]   \n",
       "18          19    0.996052005679*[popcorn, pillow, use]   \n",
       "\n",
       "                         Probability*Topic 2  \n",
       "0     0.00010092349957*[grind, coffe, great]  \n",
       "1       0.000140673850373*[use, great, band]  \n",
       "2       0.000350946012036*[use, great, band]  \n",
       "3       0.000287409340145*[use, great, band]  \n",
       "4   0.000335658621147*[filter, water, brita]  \n",
       "5   0.000247585320436*[popcorn, pillow, use]  \n",
       "6        0.00270341562788*[use, work, great]  \n",
       "7       0.164941662025*[grind, coffe, great]  \n",
       "8     0.00578234383792*[grind, coffe, great]  \n",
       "9       0.000105734898064*[use, great, band]  \n",
       "10      0.000763505984757*[use, great, band]  \n",
       "11       0.00116306604143*[use, work, great]  \n",
       "12  0.000520927585248*[filter, water, brita]  \n",
       "13       0.00015317161682*[use, great, band]  \n",
       "14    0.00144987229435*[grind, coffe, great]  \n",
       "15        0.0005883602308*[use, work, great]  \n",
       "16      0.000119074829918*[use, great, band]  \n",
       "17  0.000452601663806*[popcorn, pillow, use]  \n",
       "18      0.000438751578698*[use, great, band]  "
      ]
     },
     "execution_count": 11,
     "metadata": {},
     "output_type": "execute_result"
    }
   ],
   "source": [
    "prob_1 = []\n",
    "prob_2 = []\n",
    "for i in range(len(corpus)):\n",
    "    df = pd.DataFrame(zip(topics,[p for t, p in ldamodel.get_document_topics(corpus[i],minimum_probability=1e-4)]),\n",
    "                      columns = [\"topics\",\"prob\"])\n",
    "    df.sort_values(by = \"prob\", ascending=0,inplace=True)\n",
    "    df = df.head(2)\n",
    "    df[\"top_two\"] = df.prob.map(str) + \"*[\" + df.topics + \"]\"\n",
    "    prob_1.append(df.top_two.values[0])\n",
    "    prob_2.append(df.top_two.values[1])\n",
    "result = pd.DataFrame(zip(range(1,20),prob_1,prob_2),\n",
    "                      columns=([\"Product ID\",\"Probability*Topic 1\", \"Probability*Topic 2\"]))\n",
    "result"
   ]
  },
  {
   "cell_type": "code",
   "execution_count": 21,
   "metadata": {
    "collapsed": true
   },
   "outputs": [],
   "source": [
    "result = {}\n",
    "for i in range(len(corpus)):\n",
    "    df = pd.DataFrame(zip(topics,[p for t, p in ldamodel.get_document_topics(corpus[i],minimum_probability=1e-4)]),\n",
    "                      columns = [\"topics\",\"prob\"])\n",
    "    df.sort_values(by = \"prob\", ascending=0,inplace=True)\n",
    "    df = df.head(2)\n",
    "    df[\"top_two\"] = df.prob.map(str) + \"*[\" + df.topics + \"]\"\n",
    "    result[i] = df.top_two.values"
   ]
  },
  {
   "cell_type": "code",
   "execution_count": 22,
   "metadata": {},
   "outputs": [
    {
     "data": {
      "text/plain": [
       "{0: array(['0.999181069093*[great, use, qualiti]',\n",
       "        '0.000205415843805*[filter, use, water]'], dtype=object),\n",
       " 1: array(['0.998857459139*[filter, use, water]',\n",
       "        '0.000286618719815*[pillow, use, love]'], dtype=object),\n",
       " 2: array(['0.997144728832*[pillow, use, love]',\n",
       "        '0.000716880324212*[great, use, qualiti]'], dtype=object),\n",
       " 3: array(['0.997661091872*[great, use, qualiti]',\n",
       "        '0.000586786517213*[filter, use, water]'], dtype=object),\n",
       " 4: array(['0.997267122*[filter, use, water]',\n",
       "        '0.000687779856543*[great, use, qualiti]'], dtype=object),\n",
       " 5: array(['0.997987113165*[use, great, one]',\n",
       "        '0.000504962674133*[great, use, qualiti]'], dtype=object),\n",
       " 6: array(['0.566538498913*[great, use, qualiti]',\n",
       "        '0.416891552248*[filter, use, water]'], dtype=object),\n",
       " 7: array(['0.999488783503*[grind, coffe, use]',\n",
       "        '0.000128208621089*[filter, use, water]'], dtype=object),\n",
       " 8: array(['0.999245811887*[filter, use, water]',\n",
       "        '0.000189474643987*[great, use, qualiti]'], dtype=object),\n",
       " 9: array(['0.999141355729*[filter, use, water]',\n",
       "        '0.000215707406571*[great, use, qualiti]'], dtype=object),\n",
       " 10: array(['0.993766432038*[filter, use, water]',\n",
       "        '0.00156623521722*[great, use, qualiti]'], dtype=object),\n",
       " 11: array(['0.990570567804*[great, use, qualiti]',\n",
       "        '0.00236931386846*[filter, use, water]'], dtype=object),\n",
       " 12: array(['0.995762700016*[pillow, use, love]',\n",
       "        '0.00106950340582*[filter, use, water]'], dtype=object),\n",
       " 13: array(['0.998758394244*[great, use, qualiti]',\n",
       "        '0.000311603618786*[filter, use, water]'], dtype=object),\n",
       " 14: array(['0.735260750859*[great, use, qualiti]',\n",
       "        '0.255883194313*[grind, coffe, use]'], dtype=object),\n",
       " 15: array(['0.941253233587*[filter, use, water]',\n",
       "        '0.0551169676211*[great, use, qualiti]'], dtype=object),\n",
       " 16: array(['0.999033002113*[pillow, use, love]',\n",
       "        '0.000242330584692*[great, use, qualiti]'], dtype=object),\n",
       " 17: array(['0.996315963964*[great, use, qualiti]',\n",
       "        '0.000923512386611*[pillow, use, love]'], dtype=object),\n",
       " 18: array(['0.99643023495*[use, great, one]',\n",
       "        '0.000895419240237*[filter, use, water]'], dtype=object)}"
      ]
     },
     "execution_count": 22,
     "metadata": {},
     "output_type": "execute_result"
    }
   ],
   "source": [
    "result[]result"
   ]
  }
 ],
 "metadata": {
  "kernelspec": {
   "display_name": "Python 2",
   "language": "python",
   "name": "python2"
  },
  "language_info": {
   "codemirror_mode": {
    "name": "ipython",
    "version": 2
   },
   "file_extension": ".py",
   "mimetype": "text/x-python",
   "name": "python",
   "nbconvert_exporter": "python",
   "pygments_lexer": "ipython2",
   "version": "2.7.13"
  },
  "latex_envs": {
   "LaTeX_envs_menu_present": true,
   "autocomplete": true,
   "bibliofile": "biblio.bib",
   "cite_by": "apalike",
   "current_citInitial": 1,
   "eqLabelWithNumbers": true,
   "eqNumInitial": 1,
   "hotkeys": {
    "equation": "Ctrl-E",
    "itemize": "Ctrl-I"
   },
   "labels_anchors": false,
   "latex_user_defs": false,
   "report_style_numbering": false,
   "user_envs_cfg": false
  }
 },
 "nbformat": 4,
 "nbformat_minor": 2
}
