{
 "cells": [
  {
   "cell_type": "code",
   "execution_count": 1,
   "metadata": {},
   "outputs": [
    {
     "name": "stdout",
     "output_type": "stream",
     "text": [
      "  (0, 0)\t0.61913029649\n",
      "  (0, 4)\t0.78528827571\n",
      "  (1, 0)\t0.61913029649\n",
      "  (1, 6)\t0.78528827571\n",
      "  (2, 7)\t0.465808549369\n",
      "  (2, 1)\t0.590819080602\n",
      "  (2, 2)\t0.465808549369\n",
      "  (2, 3)\t0.465808549369\n",
      "  (3, 7)\t0.465808549369\n",
      "  (3, 2)\t0.465808549369\n",
      "  (3, 3)\t0.465808549369\n",
      "  (3, 5)\t0.590819080602\n",
      "[[ 0.6191303   0.          0.          0.          0.78528828  0.          0.\n",
      "   0.        ]\n",
      " [ 0.6191303   0.          0.          0.          0.          0.\n",
      "   0.78528828  0.        ]\n",
      " [ 0.          0.59081908  0.46580855  0.46580855  0.          0.          0.\n",
      "   0.46580855]\n",
      " [ 0.          0.          0.46580855  0.46580855  0.          0.59081908\n",
      "   0.          0.46580855]]\n",
      "[[ 0.6191303   0.          0.          0.          0.39264414  0.\n",
      "   0.39264414  0.        ]\n",
      " [ 0.          0.29540954  0.46580855  0.46580855  0.          0.29540954\n",
      "   0.          0.46580855]]\n",
      "[0 0 1 1]\n",
      "[u'great', u'money', u'poor', u'quality', u'starters', u'time', u'use', u'waste']\n",
      "[1]\n",
      "[0 0 1 1]\n"
     ]
    }
   ],
   "source": [
    "from sklearn.feature_extraction.text import TfidfVectorizer\n",
    "from sklearn.cluster import KMeans\n",
    "from sklearn.cluster import AgglomerativeClustering\n",
    " \n",
    "doc_a = \"great for starters\"\n",
    "doc_b = \"great for use anywhere\"\n",
    "doc_c = \"what a waste of money poor quality\"\n",
    "doc_d = \"the quality is poor waste of my time\"\n",
    "train_doc = [doc_a,doc_b,doc_c,doc_d]\n",
    "\n",
    "vectorizer = TfidfVectorizer(stop_words='english')\n",
    "X = vectorizer.fit_transform(train_doc)\n",
    "\n",
    "print X\n",
    "print X.toarray()\n",
    " \n",
    "true_k = 2\n",
    "model = KMeans(n_clusters=true_k, max_iter=100)\n",
    "model.fit(X)\n",
    "\n",
    "print model.cluster_centers_\n",
    "print model.labels_\n",
    "terms = vectorizer.get_feature_names()\n",
    "print terms\n",
    "\n",
    "Y = vectorizer.transform([\"poor quality\"])\n",
    "prediction = model.predict(Y)\n",
    "print prediction\n",
    "\n",
    "model2 = AgglomerativeClustering(n_clusters=true_k)\n",
    "model2.fit(X.toarray())\n",
    "\n",
    "print model2.labels_"
   ]
  },
  {
   "cell_type": "code",
   "execution_count": null,
   "metadata": {
    "collapsed": true
   },
   "outputs": [],
   "source": []
  },
  {
   "cell_type": "code",
   "execution_count": null,
   "metadata": {
    "collapsed": true
   },
   "outputs": [],
   "source": []
  }
 ],
 "metadata": {
  "kernelspec": {
   "display_name": "Python 2",
   "language": "python",
   "name": "python2"
  },
  "language_info": {
   "codemirror_mode": {
    "name": "ipython",
    "version": 2
   },
   "file_extension": ".py",
   "mimetype": "text/x-python",
   "name": "python",
   "nbconvert_exporter": "python",
   "pygments_lexer": "ipython2",
   "version": "2.7.14"
  }
 },
 "nbformat": 4,
 "nbformat_minor": 2
}
