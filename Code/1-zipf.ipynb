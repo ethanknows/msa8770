{
 "cells": [
  {
   "cell_type": "markdown",
   "metadata": {},
   "source": [
    "# Problem 1 Zipf’s Law"
   ]
  },
  {
   "cell_type": "code",
   "execution_count": 1,
   "metadata": {
    "collapsed": true
   },
   "outputs": [],
   "source": [
    "import nltk\n",
    "from nltk.tokenize import  word_tokenize\n",
    "import csv\n",
    "import string\n",
    "import matplotlib.pyplot as plt\n",
    "import scipy.stats as ss\n",
    "import math\n",
    "with open('Homework_1.csv', \"r\") as Homeworkcsvfile:\n",
    "    csvreader = csv.reader(Homeworkcsvfile, delimiter = \"^\")\n",
    "    text = \"\"\n",
    "    for row in csvreader:\n",
    "        text = text + row[-2]\n",
    "    lowers = text.lower()\n",
    "    no_punctuation = lowers.translate(None, string.punctuation)\n",
    "    tokenized = word_tokenize(no_punctuation)\n",
    "    newtokens = [w for w in tokenized if w.isalnum()]\n",
    "fdist = nltk.FreqDist(newtokens) "
   ]
  },
  {
   "cell_type": "code",
   "execution_count": 2,
   "metadata": {
    "collapsed": true
   },
   "outputs": [],
   "source": [
    "rank = ss.rankdata([c for w,c in fdist.iteritems()]).astype(int)"
   ]
  },
  {
   "cell_type": "code",
   "execution_count": 3,
   "metadata": {},
   "outputs": [
    {
     "name": "stdout",
     "output_type": "stream",
     "text": [
      "698 2607\n"
     ]
    }
   ],
   "source": [
    "print min(rank), max(rank)"
   ]
  },
  {
   "cell_type": "code",
   "execution_count": 4,
   "metadata": {
    "collapsed": true
   },
   "outputs": [],
   "source": [
    "rank_new= max(rank - min(rank)) - (rank - min(rank)) + 1"
   ]
  },
  {
   "cell_type": "code",
   "execution_count": 5,
   "metadata": {},
   "outputs": [
    {
     "data": {
      "text/plain": [
       "<matplotlib.text.Text at 0x11ba12450>"
      ]
     },
     "execution_count": 5,
     "metadata": {},
     "output_type": "execute_result"
    },
    {
     "data": {
      "image/png": "[encoded data removed]",
      "text/plain": [
       "<matplotlib.figure.Figure at 0x11320a910>"
      ]
     },
     "metadata": {},
     "output_type": "display_data"
    }
   ],
   "source": [
    "%matplotlib inline\n",
    "fig = plt.figure(figsize=(8,5))\n",
    "plt.plot([math.log(r) for w, r in zip(fdist,rank_new)],[math.log(c) for w, c in fdist.items()] , \"ro\")\n",
    "plt.title(\"Zipf's Law Plot\")\n",
    "plt.xlabel(\"log(rank)\")\n",
    "plt.ylabel(\"log(frecuency)\")"
   ]
  }
 ],
 "metadata": {
  "kernelspec": {
   "display_name": "Python 2",
   "language": "python",
   "name": "python2"
  },
  "language_info": {
   "codemirror_mode": {
    "name": "ipython",
    "version": 2
   },
   "file_extension": ".py",
   "mimetype": "text/x-python",
   "name": "python",
   "nbconvert_exporter": "python",
   "pygments_lexer": "ipython2",
   "version": "2.7.13"
  },
  "latex_envs": {
   "LaTeX_envs_menu_present": true,
   "autocomplete": true,
   "bibliofile": "biblio.bib",
   "cite_by": "apalike",
   "current_citInitial": 1,
   "eqLabelWithNumbers": true,
   "eqNumInitial": 1,
   "hotkeys": {
    "equation": "Ctrl-E",
    "itemize": "Ctrl-I"
   },
   "labels_anchors": false,
   "latex_user_defs": false,
   "report_style_numbering": false,
   "user_envs_cfg": false
  }
 },
 "nbformat": 4,
 "nbformat_minor": 2
}
